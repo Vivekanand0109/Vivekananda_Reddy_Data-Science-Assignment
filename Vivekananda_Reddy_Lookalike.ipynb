{
  "nbformat": 4,
  "nbformat_minor": 0,
  "metadata": {
    "colab": {
      "provenance": []
    },
    "kernelspec": {
      "name": "python3",
      "display_name": "Python 3"
    },
    "language_info": {
      "name": "python"
    }
  },
  "cells": [
    {
      "cell_type": "code",
      "execution_count": 1,
      "metadata": {
        "id": "YLGPRauZsEzm"
      },
      "outputs": [],
      "source": [
        "import pandas as pd\n",
        "from sklearn.metrics.pairwise import cosine_similarity\n",
        "from sklearn.preprocessing import StandardScaler\n",
        "\n",
        "customers = pd.read_csv('Customers.csv')\n",
        "products = pd.read_csv('Products.csv')\n",
        "transactions = pd.read_csv('Transactions.csv')\n",
        "\n",
        "data = transactions.merge(customers, on='CustomerID').merge(products, on='ProductID')\n",
        "\n",
        "customer_features = data.groupby('CustomerID').agg({\n",
        "    'TotalValue': 'sum',\n",
        "    'Quantity': 'sum',\n",
        "    'Price_x': 'mean',\n",
        "    'Price_y': 'mean',\n",
        "    'ProductID': 'nunique',\n",
        "    'Region': 'first',\n",
        "\n",
        "}).reset_index()\n",
        "\n",
        "customer_features = pd.get_dummies(customer_features, columns=['Region'], drop_first=True)\n",
        "\n",
        "scaler = StandardScaler()\n",
        "normalized_features = scaler.fit_transform(customer_features.drop('CustomerID', axis=1))\n",
        "\n",
        "similarity_matrix = cosine_similarity(normalized_features)\n",
        "\n",
        "lookalike_map = {}\n",
        "customer_ids = customer_features['CustomerID'].tolist()\n",
        "\n",
        "for i, customer_id in enumerate(customer_ids[:20]):\n",
        "    scores = list(enumerate(similarity_matrix[i]))\n",
        "    sorted_scores = sorted(scores, key=lambda x: x[1], reverse=True)\n",
        "    top_3 = [(customer_ids[j], round(score, 2)) for j, score in sorted_scores[1:4]]\n",
        "    lookalike_map[customer_id] = top_3\n",
        "\n",
        "lookalike_df = pd.DataFrame([\n",
        "    {'CustomerID': key, 'Lookalikes': str(value)} for key, value in lookalike_map.items()\n",
        "])\n",
        "\n",
        "lookalike_df.to_csv('Lookalike.csv', index=False)"
      ]
    }
  ]
}